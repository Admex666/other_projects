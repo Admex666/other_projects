{
 "cells": [
  {
   "cell_type": "markdown",
   "id": "3da4fc28",
   "metadata": {},
   "source": [
    "\n",
    "# 🏀 NBA Real-Time Győzelmi Esély Predikció\n",
    "\n",
    "Ez a notebook egy egyszerű példát mutat be arra, hogyan lehet NBA meccs alatt, valós időben megbecsülni egy csapat győzelmi esélyét statisztikai adatok alapján.\n",
    "\n",
    "A modell figyelembe veszi:\n",
    "- aktuális pontállást,\n",
    "- hátralévő játékidőt,\n",
    "- támadások sebességét (pace),\n",
    "- dobószázalékot,\n",
    "- és a történelmi győzelmi valószínűségeket hasonló szituációban.\n",
    "\n",
    "Az adatok szimuláltak egy példameccshez.\n"
   ]
  },
  {
   "cell_type": "code",
   "execution_count": 1,
   "id": "621d1669",
   "metadata": {},
   "outputs": [],
   "source": [
    "\n",
    "import numpy as np\n",
    "import pandas as pd\n",
    "import matplotlib.pyplot as plt\n",
    "import seaborn as sns\n"
   ]
  },
  {
   "cell_type": "code",
   "execution_count": 10,
   "id": "a5564913",
   "metadata": {},
   "outputs": [],
   "source": [
    "\n",
    "# Állítsunk be egy szimulált állást a 3. negyed végén\n",
    "game_state = {\n",
    "    'home_score': 89,\n",
    "    'away_score': 91,\n",
    "    'quarter': 3,\n",
    "    'time_remaining_minutes': 12,\n",
    "    'possessions_remaining': 20,  # becslés: kb. 10-12 percre jellemző\n",
    "    'home_efficiency': 1.12,  # pont per támadás\n",
    "    'away_efficiency': 1.08,\n",
    "    'home_win_prob_baseline': 0.50\n",
    "}\n"
   ]
  },
  {
   "cell_type": "code",
   "execution_count": 11,
   "id": "08fa9005",
   "metadata": {},
   "outputs": [
    {
     "name": "stdout",
     "output_type": "stream",
     "text": [
      "Várható végeredmény: Hazai 100.2 - Vendég 101.8\n"
     ]
    }
   ],
   "source": [
    "\n",
    "# Előrejelzett további pontok\n",
    "home_future_points = game_state['possessions_remaining'] / 2 * game_state['home_efficiency']\n",
    "away_future_points = game_state['possessions_remaining'] / 2 * game_state['away_efficiency']\n",
    "\n",
    "# Várható végeredmény\n",
    "expected_home_final = game_state['home_score'] + home_future_points\n",
    "expected_away_final = game_state['away_score'] + away_future_points\n",
    "\n",
    "print(f\"Várható végeredmény: Hazai {expected_home_final:.1f} - Vendég {expected_away_final:.1f}\")\n"
   ]
  },
  {
   "cell_type": "code",
   "execution_count": 12,
   "id": "949fef40",
   "metadata": {},
   "outputs": [
    {
     "name": "stdout",
     "output_type": "stream",
     "text": [
      "Győzelmi esély hazai csapatnak: 43.6%\n",
      "Győzelmi esély vendég csapatnak: 56.4%\n"
     ]
    }
   ],
   "source": [
    "\n",
    "# Egyszerű normalCDF-alapú győzelmi esélymodell (z-score alapján)\n",
    "from scipy.stats import norm\n",
    "\n",
    "point_diff = expected_home_final - expected_away_final\n",
    "std_dev = 10  # egyszerűsített szórásbecslés\n",
    "\n",
    "z = point_diff / std_dev\n",
    "home_win_prob = norm.cdf(z)\n",
    "\n",
    "print(f\"Győzelmi esély hazai csapatnak: {home_win_prob*100:.1f}%\")\n",
    "print(f\"Győzelmi esély vendég csapatnak: {(1 - home_win_prob)*100:.1f}%\")\n"
   ]
  },
  {
   "cell_type": "code",
   "execution_count": 13,
   "id": "4e82aa7b",
   "metadata": {},
   "outputs": [
    {
     "name": "stderr",
     "output_type": "stream",
     "text": [
      "C:\\Users\\Adam\\AppData\\Local\\Temp\\ipykernel_24744\\1463605822.py:6: FutureWarning: \n",
      "\n",
      "Passing `palette` without assigning `hue` is deprecated and will be removed in v0.14.0. Assign the `x` variable to `hue` and set `legend=False` for the same effect.\n",
      "\n",
      "  sns.barplot(x=labels, y=probs, palette='coolwarm')\n"
     ]
    },
    {
     "data": {
      "image/png": "[encoded data removed]",
      "text/plain": [
       "<Figure size 600x400 with 1 Axes>"
      ]
     },
     "metadata": {},
     "output_type": "display_data"
    }
   ],
   "source": [
    "\n",
    "# Vizualizáció\n",
    "labels = ['Home Win', 'Away Win']\n",
    "probs = [home_win_prob, 1 - home_win_prob]\n",
    "\n",
    "plt.figure(figsize=(6,4))\n",
    "sns.barplot(x=labels, y=probs, palette='coolwarm')\n",
    "plt.ylim(0, 1)\n",
    "plt.title('Győzelmi esélyek predikciója')\n",
    "plt.ylabel('Valószínűség')\n",
    "plt.show()\n"
   ]
  }
 ],
 "metadata": {
  "kernelspec": {
   "display_name": "Python 3",
   "language": "python",
   "name": "python3"
  },
  "language_info": {
   "codemirror_mode": {
    "name": "ipython",
    "version": 3
   },
   "file_extension": ".py",
   "mimetype": "text/x-python",
   "name": "python",
   "nbconvert_exporter": "python",
   "pygments_lexer": "ipython3",
   "version": "3.13.5"
  }
 },
 "nbformat": 4,
 "nbformat_minor": 5
}
